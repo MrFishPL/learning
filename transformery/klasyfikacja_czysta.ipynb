{
  "nbformat": 4,
  "nbformat_minor": 0,
  "metadata": {
    "colab": {
      "provenance": [],
      "gpuType": "T4"
    },
    "kernelspec": {
      "name": "python3",
      "display_name": "Python 3"
    },
    "language_info": {
      "name": "python"
    },
    "accelerator": "GPU"
  },
  "cells": [
    {
      "cell_type": "code",
      "source": [
        "!pip install sacremoses\n",
        "!pip install datasets\n",
        "!clear"
      ],
      "metadata": {
        "colab": {
          "base_uri": "https://localhost:8080/"
        },
        "id": "ltk8DFHID2zQ",
        "outputId": "6a7d76b9-6d61-4aa3-f697-6f5b0310355c"
      },
      "execution_count": 13,
      "outputs": [
        {
          "output_type": "stream",
          "name": "stdout",
          "text": [
            "Requirement already satisfied: sacremoses in /usr/local/lib/python3.10/dist-packages (0.1.1)\n",
            "Requirement already satisfied: regex in /usr/local/lib/python3.10/dist-packages (from sacremoses) (2024.5.15)\n",
            "Requirement already satisfied: click in /usr/local/lib/python3.10/dist-packages (from sacremoses) (8.1.7)\n",
            "Requirement already satisfied: joblib in /usr/local/lib/python3.10/dist-packages (from sacremoses) (1.4.2)\n",
            "Requirement already satisfied: tqdm in /usr/local/lib/python3.10/dist-packages (from sacremoses) (4.66.4)\n",
            "Requirement already satisfied: datasets in /usr/local/lib/python3.10/dist-packages (2.20.0)\n",
            "Requirement already satisfied: filelock in /usr/local/lib/python3.10/dist-packages (from datasets) (3.14.0)\n",
            "Requirement already satisfied: numpy>=1.17 in /usr/local/lib/python3.10/dist-packages (from datasets) (1.25.2)\n",
            "Requirement already satisfied: pyarrow>=15.0.0 in /usr/local/lib/python3.10/dist-packages (from datasets) (16.1.0)\n",
            "Requirement already satisfied: pyarrow-hotfix in /usr/local/lib/python3.10/dist-packages (from datasets) (0.6)\n",
            "Requirement already satisfied: dill<0.3.9,>=0.3.0 in /usr/local/lib/python3.10/dist-packages (from datasets) (0.3.8)\n",
            "Requirement already satisfied: pandas in /usr/local/lib/python3.10/dist-packages (from datasets) (2.0.3)\n",
            "Requirement already satisfied: requests>=2.32.2 in /usr/local/lib/python3.10/dist-packages (from datasets) (2.32.3)\n",
            "Requirement already satisfied: tqdm>=4.66.3 in /usr/local/lib/python3.10/dist-packages (from datasets) (4.66.4)\n",
            "Requirement already satisfied: xxhash in /usr/local/lib/python3.10/dist-packages (from datasets) (3.4.1)\n",
            "Requirement already satisfied: multiprocess in /usr/local/lib/python3.10/dist-packages (from datasets) (0.70.16)\n",
            "Requirement already satisfied: fsspec[http]<=2024.5.0,>=2023.1.0 in /usr/local/lib/python3.10/dist-packages (from datasets) (2023.6.0)\n",
            "Requirement already satisfied: aiohttp in /usr/local/lib/python3.10/dist-packages (from datasets) (3.9.5)\n",
            "Requirement already satisfied: huggingface-hub>=0.21.2 in /usr/local/lib/python3.10/dist-packages (from datasets) (0.23.3)\n",
            "Requirement already satisfied: packaging in /usr/local/lib/python3.10/dist-packages (from datasets) (24.1)\n",
            "Requirement already satisfied: pyyaml>=5.1 in /usr/local/lib/python3.10/dist-packages (from datasets) (6.0.1)\n",
            "Requirement already satisfied: aiosignal>=1.1.2 in /usr/local/lib/python3.10/dist-packages (from aiohttp->datasets) (1.3.1)\n",
            "Requirement already satisfied: attrs>=17.3.0 in /usr/local/lib/python3.10/dist-packages (from aiohttp->datasets) (23.2.0)\n",
            "Requirement already satisfied: frozenlist>=1.1.1 in /usr/local/lib/python3.10/dist-packages (from aiohttp->datasets) (1.4.1)\n",
            "Requirement already satisfied: multidict<7.0,>=4.5 in /usr/local/lib/python3.10/dist-packages (from aiohttp->datasets) (6.0.5)\n",
            "Requirement already satisfied: yarl<2.0,>=1.0 in /usr/local/lib/python3.10/dist-packages (from aiohttp->datasets) (1.9.4)\n",
            "Requirement already satisfied: async-timeout<5.0,>=4.0 in /usr/local/lib/python3.10/dist-packages (from aiohttp->datasets) (4.0.3)\n",
            "Requirement already satisfied: typing-extensions>=3.7.4.3 in /usr/local/lib/python3.10/dist-packages (from huggingface-hub>=0.21.2->datasets) (4.12.2)\n",
            "Requirement already satisfied: charset-normalizer<4,>=2 in /usr/local/lib/python3.10/dist-packages (from requests>=2.32.2->datasets) (3.3.2)\n",
            "Requirement already satisfied: idna<4,>=2.5 in /usr/local/lib/python3.10/dist-packages (from requests>=2.32.2->datasets) (3.7)\n",
            "Requirement already satisfied: urllib3<3,>=1.21.1 in /usr/local/lib/python3.10/dist-packages (from requests>=2.32.2->datasets) (2.0.7)\n",
            "Requirement already satisfied: certifi>=2017.4.17 in /usr/local/lib/python3.10/dist-packages (from requests>=2.32.2->datasets) (2024.6.2)\n",
            "Requirement already satisfied: python-dateutil>=2.8.2 in /usr/local/lib/python3.10/dist-packages (from pandas->datasets) (2.8.2)\n",
            "Requirement already satisfied: pytz>=2020.1 in /usr/local/lib/python3.10/dist-packages (from pandas->datasets) (2023.4)\n",
            "Requirement already satisfied: tzdata>=2022.1 in /usr/local/lib/python3.10/dist-packages (from pandas->datasets) (2024.1)\n",
            "Requirement already satisfied: six>=1.5 in /usr/local/lib/python3.10/dist-packages (from python-dateutil>=2.8.2->pandas->datasets) (1.16.0)\n",
            "\u001b[H\u001b[2J"
          ]
        }
      ]
    },
    {
      "cell_type": "code",
      "source": [
        "from transformers import BertModel, BertTokenizer\n",
        "import datasets\n",
        "import torch\n",
        "import pandas"
      ],
      "metadata": {
        "id": "rQLhkg1UD1Lo"
      },
      "execution_count": 14,
      "outputs": []
    },
    {
      "cell_type": "code",
      "source": [
        "# Tokenizer training\n",
        "# https://ai.plainenglish.io/bert-pytorch-implementation-prepare-dataset-part-1-efd259113e5a\n",
        "tokenizer = BertTokenizer.from_pretrained('bert-base-uncased')\n",
        "model = BertModel.from_pretrained(\"bert-base-uncased\").to(\"cuda\")\n",
        "\n",
        "BATCH_SIZE = 32"
      ],
      "metadata": {
        "id": "DR8sV2lrIvjY"
      },
      "execution_count": 15,
      "outputs": []
    },
    {
      "cell_type": "code",
      "execution_count": 16,
      "metadata": {
        "id": "AHdWDKcRDSOI"
      },
      "outputs": [],
      "source": [
        "model = BertModel.from_pretrained(\"bert-base-uncased\").to(\"cuda\")\n",
        "tokenizer = BertTokenizer.from_pretrained('bert-base-uncased')\n",
        "\n",
        "csv = pandas.read_csv(\"TrainReviews.csv\").sample(frac=1).reset_index(drop=True)\n",
        "train_csv = csv[0:3000].reset_index(drop=True)\n",
        "valid_csv = csv[3000:3870].reset_index(drop=True)\n",
        "\n",
        "class ReviewDataset(torch.utils.data.Dataset):\n",
        "  def __init__(self, pandas_array):\n",
        "    tokenized = tokenizer.batch_encode_plus(\n",
        "        pandas_array[\"review\"],\n",
        "        truncation=True,\n",
        "        max_length=512,\n",
        "        padding=True,\n",
        "        return_tensors=\"pt\",\n",
        "    )\n",
        "\n",
        "    self.tokenized = tokenized\n",
        "    self.classes = pandas_array[\"class\"]\n",
        "\n",
        "  def __getitem__(self, idx):\n",
        "    return self.tokenized[\"input_ids\"][idx], self.tokenized[\"attention_mask\"][idx], torch.tensor(self.classes[idx])\n",
        "\n",
        "  def __len__(self):\n",
        "    return len(self.classes)\n",
        "\n",
        "train_dataset = ReviewDataset(train_csv)\n",
        "valid_dataset = ReviewDataset(valid_csv)\n",
        "\n",
        "train_dataloader = torch.utils.data.DataLoader(train_dataset, batch_size=BATCH_SIZE, shuffle=True)\n",
        "valid_dataloader = torch.utils.data.DataLoader(valid_dataset, batch_size=BATCH_SIZE, shuffle=False)"
      ]
    },
    {
      "cell_type": "code",
      "source": [
        "class Classifier(torch.nn.Module):\n",
        "  def __init__(self, bert_model):\n",
        "    super(Classifier, self).__init__()\n",
        "\n",
        "    for param in bert_model.parameters():\n",
        "      param.requires_grad = False\n",
        "\n",
        "    self.bert_model = bert_model\n",
        "\n",
        "    self.linear = torch.nn.Linear(768, 1)\n",
        "    self.sigmoid = torch.nn.Sigmoid()\n",
        "\n",
        "  def forward(self, x, attention_mask):\n",
        "    y = x.clone().detach()\n",
        "    x = self.bert_model(x, attention_mask=attention_mask)\n",
        "    x = self.linear(x.pooler_output)\n",
        "    x = self.sigmoid(x)\n",
        "\n",
        "    return x"
      ],
      "metadata": {
        "id": "1UpzqbE3O0Tp"
      },
      "execution_count": 17,
      "outputs": []
    },
    {
      "cell_type": "code",
      "source": [
        "classifier = Classifier(model).to(\"cuda\")\n",
        "optimizer = torch.optim.Adam(classifier.parameters(), lr=1e-3)\n",
        "criterion = torch.nn.BCELoss()\n",
        "\n",
        "num_epochs = 2\n",
        "for epoch in range(num_epochs):\n",
        "  classifier.train()\n",
        "  for i, (input_ids, attention_mask, labels) in enumerate(train_dataloader):\n",
        "    labels = labels.float().to(\"cuda\").view(-1, 1)\n",
        "    input_ids = input_ids.to(\"cuda\")\n",
        "    attention_mask = attention_mask.to(\"cuda\")\n",
        "\n",
        "    out = classifier(input_ids, attention_mask=attention_mask)\n",
        "\n",
        "    optimizer.zero_grad()\n",
        "    loss = criterion(out, labels)\n",
        "    loss.backward()\n",
        "    optimizer.step()\n",
        "\n",
        "    if i%10 == 0:\n",
        "      print(f\"Epoch: {epoch+1}/{num_epochs}; Step: {i}/{len(train_dataloader)}; Loss: {loss}\")\n",
        "\n",
        "  with torch.no_grad():\n",
        "    loss_sum = 0\n",
        "    acc_sum = 0\n",
        "\n",
        "    classifier.eval()\n",
        "    for i, (input_ids, attention_mask, labels) in enumerate(valid_dataloader):\n",
        "      labels = labels.float().to(\"cuda\").view(-1, 1)\n",
        "      input_ids = input_ids.to(\"cuda\")\n",
        "      attention_mask = attention_mask.to(\"cuda\")\n",
        "\n",
        "      out = classifier(input_ids, attention_mask=attention_mask)\n",
        "      loss = criterion(out, labels)\n",
        "      loss_sum += loss\n",
        "      acc_sum += torch.sum(torch.round(out) == labels) / labels.shape[0]\n",
        "\n",
        "    avg_loss = loss_sum/len(valid_dataloader)\n",
        "    avg_acc = acc_sum/len(valid_dataloader)\n",
        "    print(f\"###### VALIDATION ###### Loss: {avg_loss}; Accuracy: {avg_acc}\")\n"
      ],
      "metadata": {
        "colab": {
          "base_uri": "https://localhost:8080/"
        },
        "id": "RP8mfD8kJKEX",
        "outputId": "bd01dd81-10d2-4906-9767-2543c2fb5ef8"
      },
      "execution_count": 18,
      "outputs": [
        {
          "output_type": "stream",
          "name": "stdout",
          "text": [
            "Epoch: 1/2; Step: 0/94; Loss: 0.7262423038482666\n",
            "Epoch: 1/2; Step: 10/94; Loss: 0.6578466892242432\n",
            "Epoch: 1/2; Step: 20/94; Loss: 0.5404446125030518\n",
            "Epoch: 1/2; Step: 30/94; Loss: 0.7021533250808716\n",
            "Epoch: 1/2; Step: 40/94; Loss: 0.5734280347824097\n",
            "Epoch: 1/2; Step: 50/94; Loss: 0.451293021440506\n",
            "Epoch: 1/2; Step: 60/94; Loss: 0.5314268469810486\n",
            "Epoch: 1/2; Step: 70/94; Loss: 0.6016862392425537\n",
            "Epoch: 1/2; Step: 80/94; Loss: 0.45121335983276367\n",
            "Epoch: 1/2; Step: 90/94; Loss: 0.565631628036499\n",
            "###### VALIDATION ###### Loss: 0.5253691077232361; Accuracy: 0.7150298357009888\n",
            "Epoch: 2/2; Step: 0/94; Loss: 0.5361878871917725\n",
            "Epoch: 2/2; Step: 10/94; Loss: 0.5617011189460754\n",
            "Epoch: 2/2; Step: 20/94; Loss: 0.6187691688537598\n",
            "Epoch: 2/2; Step: 30/94; Loss: 0.4766705632209778\n",
            "Epoch: 2/2; Step: 40/94; Loss: 0.502291202545166\n",
            "Epoch: 2/2; Step: 50/94; Loss: 0.5353785157203674\n",
            "Epoch: 2/2; Step: 60/94; Loss: 0.5627908706665039\n",
            "Epoch: 2/2; Step: 70/94; Loss: 0.48338472843170166\n",
            "Epoch: 2/2; Step: 80/94; Loss: 0.544579029083252\n",
            "Epoch: 2/2; Step: 90/94; Loss: 0.5550126433372498\n",
            "###### VALIDATION ###### Loss: 0.4746256172657013; Accuracy: 0.7619048357009888\n"
          ]
        }
      ]
    }
  ]
}